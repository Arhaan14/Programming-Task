{
 "cells": [
  {
   "cell_type": "code",
   "execution_count": 1,
   "id": "1629963e",
   "metadata": {},
   "outputs": [
    {
     "name": "stdout",
     "output_type": "stream",
     "text": [
      "Requirement already satisfied: pynput in c:\\users\\elvis\\anaconda3\\lib\\site-packages (1.8.1)\n",
      "Requirement already satisfied: six in c:\\users\\elvis\\anaconda3\\lib\\site-packages (from pynput) (1.16.0)\n",
      "Note: you may need to restart the kernel to use updated packages.\n"
     ]
    },
    {
     "name": "stderr",
     "output_type": "stream",
     "text": [
      "\n",
      "[notice] A new release of pip is available: 25.0.1 -> 25.2\n",
      "[notice] To update, run: python.exe -m pip install --upgrade pip\n"
     ]
    }
   ],
   "source": [
    "pip install pynput"
   ]
  },
  {
   "cell_type": "code",
   "execution_count": 5,
   "id": "3a9e90dd",
   "metadata": {},
   "outputs": [
    {
     "name": "stdout",
     "output_type": "stream",
     "text": [
      "=== Enrollment Phase ===\n",
      "Attempt 1: \n",
      "Attempt 2: \n",
      "Attempt 3: \n",
      "Attempt 4: \n",
      "Attempt 5: \n",
      "\n",
      "=== Login Phase ===\n",
      "Enter your password: \n",
      "Access denied!\n"
     ]
    }
   ],
   "source": [
    "import numpy as np\n",
    "from scipy.spatial.distance import euclidean\n",
    "from pynput import keyboard\n",
    "import time\n",
    "\n",
    "def record_password(prompt):\n",
    "    print(prompt)\n",
    "    timings = []\n",
    "    password_chars = []\n",
    "    last_time = []\n",
    "\n",
    "    def on_press(key):\n",
    "        nonlocal last_time, password_chars, timings\n",
    "        current_time = time.time()\n",
    "        if last_time:\n",
    "            timings.append(current_time - last_time[-1])\n",
    "        last_time.append(current_time)\n",
    "\n",
    "        try:\n",
    "            if hasattr(key, 'char') and key.char is not None:\n",
    "                password_chars.append(key.char)\n",
    "        except AttributeError:\n",
    "            pass\n",
    "\n",
    "    def on_release(key):\n",
    "        if key == keyboard.Key.enter:\n",
    "            return False\n",
    "\n",
    "    with keyboard.Listener(on_press=on_press, on_release=on_release) as listener:\n",
    "        listener.join()\n",
    "\n",
    "    password = ''.join(password_chars)\n",
    "    return password, np.array(timings)\n",
    "\n",
    "# Enrollment phase\n",
    "print(\"=== Enrollment Phase ===\")\n",
    "num_attempts = 5\n",
    "enrolled_timings = []\n",
    "enrolled_passwords = []\n",
    "\n",
    "for i in range(num_attempts):\n",
    "    pwd, timings = record_password(f\"Attempt {i+1}: \")\n",
    "    enrolled_timings.append(timings)\n",
    "    enrolled_passwords.append(pwd)\n",
    "\n",
    "min_len = min(len(t) for t in enrolled_timings)\n",
    "aligned_timings = [t[:min_len] for t in enrolled_timings]\n",
    "\n",
    "average_timing = np.mean(np.vstack(aligned_timings), axis=0)\n",
    "\n",
    "print(\"\\n=== Login Phase ===\")\n",
    "login_pwd, login_timings = record_password(\"Enter your password: \")\n",
    "\n",
    "login_timings = login_timings[:len(average_timing)]\n",
    "\n",
    "distance = euclidean(login_timings, average_timing)\n",
    "threshold = 0.05  # adjust based on testing\n",
    "\n",
    "if login_pwd == enrolled_passwords[0] and distance < threshold:\n",
    "    print(\"Access granted!\")\n",
    "else:\n",
    "    print(\"Access denied!\")\n"
   ]
  },
  {
   "cell_type": "code",
   "execution_count": null,
   "id": "09d4dec1",
   "metadata": {},
   "outputs": [],
   "source": [
    "arhaan khan\n",
    "arhaan khan\n",
    "arhaan khan\n",
    "arhaan khan\n",
    "arhaan khan\n",
    "arhaan khan"
   ]
  }
 ],
 "metadata": {
  "kernelspec": {
   "display_name": "Python 3 (ipykernel)",
   "language": "python",
   "name": "python3"
  },
  "language_info": {
   "codemirror_mode": {
    "name": "ipython",
    "version": 3
   },
   "file_extension": ".py",
   "mimetype": "text/x-python",
   "name": "python",
   "nbconvert_exporter": "python",
   "pygments_lexer": "ipython3",
   "version": "3.11.5"
  }
 },
 "nbformat": 4,
 "nbformat_minor": 5
}
